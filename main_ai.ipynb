{
 "cells": [
  {
   "cell_type": "markdown",
   "id": "501340cb",
   "metadata": {},
   "source": [
    "Here is the R8 R52 dataset on kaggle: https://www.kaggle.com/weipengfei/ohr8r52\n",
    "here is an example of using Glove embeddings with the R8 dataset: https://www.kaggle.com/dvircohen0/text-classification-with-word-vectors\n",
    "Here is where to get the Glove embeddings: https://www.kaggle.com/watts2/glove6b50dtxt\n",
    "Here is the link to the paper I want to implement: Text Level Graph Neural Network for Text Classification (https://arxiv.org/pdf/1910.02356.pdf)\n",
    "Here is a link to an implementation of the research paper with pytorch: https://github.com/Cynwell/Text-Level-GNN"
   ]
  },
  {
   "cell_type": "code",
   "execution_count": null,
   "id": "61d66c7d",
   "metadata": {},
   "outputs": [],
   "source": []
  }
 ],
 "metadata": {
  "kernelspec": {
   "display_name": "Python 3 (ipykernel)",
   "language": "python",
   "name": "python3"
  },
  "language_info": {
   "codemirror_mode": {
    "name": "ipython",
    "version": 3
   },
   "file_extension": ".py",
   "mimetype": "text/x-python",
   "name": "python",
   "nbconvert_exporter": "python",
   "pygments_lexer": "ipython3",
   "version": "3.9.7"
  }
 },
 "nbformat": 4,
 "nbformat_minor": 5
}
