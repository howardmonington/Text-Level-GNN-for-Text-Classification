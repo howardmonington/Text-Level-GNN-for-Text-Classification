{
 "cells": [
  {
   "cell_type": "markdown",
   "id": "8e205e0c",
   "metadata": {},
   "source": [
    "# Implementation of Text Level Graph Neural Network for Text Classification\n",
    "Here, I am implementing a research paper titled <i>Text Level Graph Neural Network for Text Classification</i> which can be found [here](https://arxiv.org/pdf/1910.02356.pdf). Previous GNN-based methods of text classification involved creating a single graph for the entire corpus, which caused two major problems. First, this results in high memory consumption and is impractical for larger graphs. Second, it is very difficult to apply these models to new data, because the structure and parameters of the graph is dependent on the corpus and cannot be modified after training.\n",
    "\n",
    "This paper tackles these problems by building graphs for each input text rather than a single graph for the entire corpus. The representations and edge weights of the same node are shared globally and are updated through a message passing mechanism where a node uses information from neighboring nodes to update its representation. Additionally, the word nodes in the graph are connected within a reasonably small window in the text rather than fully connecting all word nodes. Predictions are made by summarizing the representations of all the nodes in the graph.\n",
    "\n",
    "## Practical Use-Cases\n",
    "<ul>\n",
    "        <li> spam detection\n",
    "        <li> fake news detection\n",
    "        <li> tagging content or products by using categories as a way to improve browsing or identify related content on the website. This can be used in ecommerce and with news agencies, content curators, blogs, and directories\n",
    "        <li> a faster emergency response system can be made by classifying panic conversation on social media\n",
    "        <li> marketers can monitor and classify users based on how they talk about a product or brand online\n",
    "        <li> academia, law practitioners, social researchers, government, and non-profit organizations deal with a lot of unstructured text, handling the data would be much easier if it were standardized by categories/tags\n",
    "        <li> sentiment analysis\n",
    "        <li> organizations need to classify documents so that their text data is easier to manage and utilize such as classifying incoming customer support tickets so they get sent to the right customer\n",
    "            \n",
    "</ul>\n"
   ]
  },
  {
   "cell_type": "code",
   "execution_count": 1,
   "id": "a59c3471",
   "metadata": {},
   "outputs": [],
   "source": [
    "import pandas as pd\n",
    "import torch\n",
    "import torch.nn as nn\n",
    "import torch.nn.functional as F\n",
    "from torch.utils.data import Dataset, DataLoader, random_split\n",
    "import numpy as np\n",
    "from time import time\n",
    "import argparse\n",
    "import re\n",
    "import matplotlib.pyplot as plt\n",
    "import copy"
   ]
  },
  {
   "cell_type": "markdown",
   "id": "034f5765",
   "metadata": {},
   "source": [
    "## GloveTokenizer\n",
    "Below, I'm using the GloVe tokenizer. it is introduced by Jeffrey Pennington, Richard Socher, Christopher D. Manning in 2014 in a paper titled <i> GloVe: Global Vectors for Word Representation </i> which can be found [here](https://nlp.stanford.edu/pubs/glove.pdf). GloVe is a count-based, unsupervised learning model that uses co-occurrence (how frequently two words appear together) statistics at a Global level to model the vector representations of words. Since the statistics are captured at a global level directly by the model, it is named the Global Vectors model.\n",
    "\n",
    "Here, I'm using the glove.6B.300d embeddings which is a .txt file where, on every line, the first entry is the word and the following 300 entries are the embedding. I define functions to encode strings, decode a list of integers, and and to get the embedding array from a list of integers. The file can be downloaded [here](https://www.kaggle.com/thanakomsn/glove6b300dtxt). I'm using the 300d GloVe embeddings, since that was what was used in the research paper."
   ]
  },
  {
   "cell_type": "code",
   "execution_count": 22,
   "id": "75e47393",
   "metadata": {},
   "outputs": [],
   "source": [
    "class GloveTokenizer:\n",
    "    def __init__(self, filename, unk='<unk>', pad='<pad>'):\n",
    "        self.filename = filename\n",
    "        self.unk = unk # unknown token\n",
    "        self.pad = pad # pad token\n",
    "        self.stoi = dict() # string to int dictionary\n",
    "        self.itos = dict() # int to string dictionary\n",
    "        self.embedding_matrix = list() # contains the embeddings\n",
    "        with open(filename, 'r', encoding='utf8') as f: # Read tokenizer file\n",
    "            for i, line in enumerate(f):\n",
    "                values = line.split()\n",
    "                # the first value in each line is the string, the rest of the values in the line is the embedding\n",
    "                self.stoi[values[0]] = i\n",
    "                self.itos[i] = values[0]\n",
    "                self.embedding_matrix.append([float(v) for v in values[1:]])\n",
    "        if self.unk is not None: # Add unk token into the tokenizer\n",
    "            i += 1\n",
    "            self.stoi[self.unk] = i\n",
    "            self.itos[i] = self.unk\n",
    "            # embeddings are random numbers between 0-1\n",
    "            self.embedding_matrix.append(np.random.rand(len(self.embedding_matrix[0]))) \n",
    "        if self.pad is not None: # Add pad token into the tokenizer\n",
    "            i += 1\n",
    "            self.stoi[self.pad] = i\n",
    "            self.itos[i] = self.pad\n",
    "            # embeddings are all 0's\n",
    "            self.embedding_matrix.append(np.zeros(len(self.embedding_matrix[0]))) \n",
    "        # Convert from double to float for efficiency\n",
    "        self.embedding_matrix = np.array(self.embedding_matrix).astype(np.float32) \n",
    "\n",
    "    # to encode a string into numbers\n",
    "    def encode(self, sentence):\n",
    "        if type(sentence) == str:\n",
    "            # splits the string by \" \" and also, include punctuation since Glove has embeddings for punctuation\n",
    "            sentence = re.findall(r\"[\\w']+|[.,!?;]\", sentence)\n",
    "        elif len(sentence): # if it is not a string, but it is convertible to a list, then convert it\n",
    "            sentence = list(sentence)\n",
    "        else:\n",
    "            raise TypeError('sentence should be either a str or a list of str!')\n",
    "        encoded_sentence = list()\n",
    "        for word in sentence:\n",
    "            # encode each word using the string to int dictionary, if the word doesn't exist, use the unknown token\n",
    "            # converting the word to lower case since the stoi dictionary only has lower case words\n",
    "            # otherwise, all capitalized words would just be given the unknown token\n",
    "            encoded_sentence.append(self.stoi.get(word.lower(), self.stoi[self.unk])) \n",
    "        return encoded_sentence\n",
    "\n",
    "    # to decode numbers into a string\n",
    "    def decode(self, encoded_sentence):\n",
    "        try:\n",
    "            encoded_sentence = list(encoded_sentence)\n",
    "        except Exception as e:\n",
    "            print(e)\n",
    "            raise TypeError('encoded_sentence should be either a str or a data type that is convertible to list type!')\n",
    "        sentence = list()\n",
    "        for encoded_word in encoded_sentence:\n",
    "            sentence.append(self.itos[encoded_word])\n",
    "        return sentence\n",
    "\n",
    "    # takes an encoded sentence and returns the embeddings of shape (len(encoded_sentence), 300)\n",
    "    def embedding(self, encoded_sentence):\n",
    "        return self.embedding_matrix[np.array(encoded_sentence)]\n",
    "    \n",
    "# example:\n",
    "# tokenizer = GloveTokenizer('embeddings/glove.6B.300d.txt')"
   ]
  },
  {
   "cell_type": "markdown",
   "id": "1c64554d",
   "metadata": {},
   "source": [
    "## The Dataset\n",
    "Here, I am using the R8 dataset. This is a subset of the Reuters-21578 dataset, which is a collection of documents with news articles. The Reuters-21578 dataset is one of the most widely used data collections for text categorization research. It is collected from the Reuters financial newswire service in 1987. The Reuters-21578 dataset has 10,369 documents and a vocabulary of 29,930 words. It can be found [here](https://paperswithcode.com/dataset/reuters-21578). The R8 dataset, which is implemented in the research paper, has 5,485 training examples and 2189 test examples and 8 classes. When the R8 dataset was created, it removed all numbers from the strings."
   ]
  },
  {
   "cell_type": "code",
   "execution_count": 23,
   "id": "47307432",
   "metadata": {},
   "outputs": [
    {
     "data": {
      "text/html": [
       "<div>\n",
       "<style scoped>\n",
       "    .dataframe tbody tr th:only-of-type {\n",
       "        vertical-align: middle;\n",
       "    }\n",
       "\n",
       "    .dataframe tbody tr th {\n",
       "        vertical-align: top;\n",
       "    }\n",
       "\n",
       "    .dataframe thead th {\n",
       "        text-align: right;\n",
       "    }\n",
       "</style>\n",
       "<table border=\"1\" class=\"dataframe\">\n",
       "  <thead>\n",
       "    <tr style=\"text-align: right;\">\n",
       "      <th></th>\n",
       "      <th>0</th>\n",
       "      <th>1</th>\n",
       "    </tr>\n",
       "  </thead>\n",
       "  <tbody>\n",
       "    <tr>\n",
       "      <th>0</th>\n",
       "      <td>earn</td>\n",
       "      <td>champion products ch approves stock split cham...</td>\n",
       "    </tr>\n",
       "    <tr>\n",
       "      <th>1</th>\n",
       "      <td>acq</td>\n",
       "      <td>computer terminal systems cpml completes sale ...</td>\n",
       "    </tr>\n",
       "    <tr>\n",
       "      <th>2</th>\n",
       "      <td>earn</td>\n",
       "      <td>cobanco inc cbco year net shr cts vs dlrs net ...</td>\n",
       "    </tr>\n",
       "    <tr>\n",
       "      <th>3</th>\n",
       "      <td>earn</td>\n",
       "      <td>am international inc am nd qtr jan oper shr lo...</td>\n",
       "    </tr>\n",
       "    <tr>\n",
       "      <th>4</th>\n",
       "      <td>earn</td>\n",
       "      <td>brown forman inc bfd th qtr net shr one dlr vs...</td>\n",
       "    </tr>\n",
       "  </tbody>\n",
       "</table>\n",
       "</div>"
      ],
      "text/plain": [
       "      0                                                  1\n",
       "0  earn  champion products ch approves stock split cham...\n",
       "1   acq  computer terminal systems cpml completes sale ...\n",
       "2  earn  cobanco inc cbco year net shr cts vs dlrs net ...\n",
       "3  earn  am international inc am nd qtr jan oper shr lo...\n",
       "4  earn  brown forman inc bfd th qtr net shr one dlr vs..."
      ]
     },
     "execution_count": 23,
     "metadata": {},
     "output_type": "execute_result"
    }
   ],
   "source": [
    "train_filename='r8-train-all-terms.txt'\n",
    "test_filename='r8-test-all-terms.txt'\n",
    "train_data = pd.read_csv(train_filename, sep='\\t', header=None)\n",
    "test_data = pd.read_csv(test_filename, sep='\\t', header=None)\n",
    "train_data.head()"
   ]
  },
  {
   "cell_type": "code",
   "execution_count": 24,
   "id": "b2c62a0b",
   "metadata": {},
   "outputs": [
    {
     "data": {
      "text/plain": [
       "'champion products ch approves stock split champion products inc said its board of directors approved a two for one stock split of its common shares for shareholders of record as of april the company also said its board voted to recommend to shareholders at the annual meeting april an increase in the authorized capital stock from five mln to mln shares reuter '"
      ]
     },
     "execution_count": 24,
     "metadata": {},
     "output_type": "execute_result"
    }
   ],
   "source": [
    "train_data[1][0]"
   ]
  },
  {
   "cell_type": "code",
   "execution_count": 25,
   "id": "12309a3a",
   "metadata": {},
   "outputs": [
    {
     "name": "stdout",
     "output_type": "stream",
     "text": [
      "Average Number of Tokens in Training Set: 105.28\n"
     ]
    }
   ],
   "source": [
    "average_length = list()\n",
    "for train_str in train_data[1]:\n",
    "    # splits each training string by \" \" and by punctuation, which is the same process of tokenization as in the GloVe tokenizer below\n",
    "    average_length.append(len(re.findall(r\"[\\w']+|[.,!?;]\", train_str)))\n",
    "print(f\"Average Number of Tokens in Training Set: {round(np.array(average_length).mean(),2)}\")"
   ]
  },
  {
   "cell_type": "code",
   "execution_count": 26,
   "id": "4486cee4",
   "metadata": {},
   "outputs": [
    {
     "data": {
      "image/png": "[encoded data removed]",
      "text/plain": [
       "<Figure size 432x288 with 1 Axes>"
      ]
     },
     "metadata": {
      "needs_background": "light"
     },
     "output_type": "display_data"
    }
   ],
   "source": [
    "val_counts = train_data[0].value_counts()\n",
    "plt.bar(val_counts.index, val_counts)\n",
    "plt.xticks(rotation=30)\n",
    "plt.title(\"Frequency of Labels in Training Set\")\n",
    "plt.ylabel(\"Frequency\")\n",
    "plt.show()"
   ]
  },
  {
   "cell_type": "code",
   "execution_count": 27,
   "id": "20f75eda",
   "metadata": {},
   "outputs": [
    {
     "data": {
      "text/plain": [
       "'champion products ch approves stock split champion products inc said its board of directors approved a two for one stock split of its common shares for shareholders of record as of april the company also said its board voted to recommend to shareholders at the annual meeting april an increase in the authorized capital stock from five mln to mln shares reuter '"
      ]
     },
     "execution_count": 27,
     "metadata": {},
     "output_type": "execute_result"
    }
   ],
   "source": [
    "train_data.to_numpy()[0][1]"
   ]
  },
  {
   "cell_type": "code",
   "execution_count": 49,
   "id": "ee599c35",
   "metadata": {},
   "outputs": [],
   "source": [
    "class TextLevelGNNDatasetClass: # This class is used to achieve parameters sharing among datasets\n",
    "    def __init__(self, train_filename, test_filename, tokenizer, MAX_LENGTH=10, p=2, min_freq=2, train_validation_split=0.8):\n",
    "        self.train_filename = train_filename\n",
    "        self.test_filename = test_filename\n",
    "        self.tokenizer = tokenizer\n",
    "        self.MAX_LENGTH = MAX_LENGTH # The max length of each document to be processed\n",
    "        self.p = p # the window size\n",
    "        self.min_freq = min_freq # The minimum no. of occurrence for a word to be considered as a meaningful word. Words with less than this occurrence will be mapped to a globally shared embedding weight (to the <unk> token). It corresponds to the parameter k in the original paper\n",
    "        self.train_validation_split = train_validation_split\n",
    "\n",
    "        # read the training data\n",
    "        self.train_data = pd.read_csv(self.train_filename, sep='\\t', header=None)\n",
    "        self.test_data = pd.read_csv(self.test_filename, sep='\\t', header=None)\n",
    "\n",
    "        # this class has its own stoi and itos class which contains just the vocab in the training data\n",
    "        # and does NOT include the vocab in the validation data\n",
    "        # the first two values are the unknown and the pad\n",
    "        self.stoi = {'<unk>': 0, '<pad>': 1} # Re-index\n",
    "        self.itos = {0: '<unk>', 1: '<pad>'} # Re-index\n",
    "        self.vocab_count = len(self.stoi)\n",
    "        self.embedding_matrix = None\n",
    "        \n",
    "        # create a dictionary mapping labels to their one-hot encoded values\n",
    "        self.label_dict = dict(zip(self.train_data[0].unique(), pd.get_dummies(self.train_data[0].unique()).values.tolist()))\n",
    "\n",
    "        # split training data in to training and validation data\n",
    "        self.train_dataset, self.validation_dataset = random_split(self.train_data.to_numpy(), [int(len(self.train_data) * train_validation_split), len(self.train_data) - int(len(self.train_data) * train_validation_split)])\n",
    "        self.test_dataset = self.test_data.to_numpy()\n",
    "\n",
    "        # Based on train_dataset only. Updates self.stoi, self.itos, self.vocab_count and self.embedding_matrix\n",
    "        self.build_vocab() \n",
    "        \n",
    "        # this prepares the dataset\n",
    "        self.train_dataset, self.validation_dataset, self.test_dataset, self.edge_stat, self.public_edge_mask = self.prepare_dataset()\n",
    "\n",
    "    def build_vocab(self):\n",
    "        # getting list of all tokens\n",
    "        vocab_list = [re.findall(r\"[\\w']+|[.,!?;]\", sentence) for _, sentence in self.train_dataset]\n",
    "        unique_vocab = []\n",
    "        for vocab in vocab_list:\n",
    "            unique_vocab.extend(vocab)\n",
    "        # getting list of unique tokens\n",
    "        unique_vocab = [item.lower() for item in list(set(unique_vocab))]\n",
    "        for vocab in unique_vocab:\n",
    "            # converting the vocab word to lower case since the tokenizer does not recognize upper case\n",
    "            # if the vocab word is recognized by the tokenizer, add the vocab to stoi, itos, and increment vocab_count by 1\n",
    "            if vocab in self.tokenizer.stoi.keys():\n",
    "                # only add the vocab to the stoi keys and increment the vocab_count if the vocab isn't already in stoi\n",
    "                if vocab not in stoi.keys():\n",
    "                    self.stoi[vocab] = self.vocab_count\n",
    "                    self.itos[self.vocab_count] = vocab\n",
    "                    self.vocab_count += 1\n",
    "        # getting the embedding matrix for all strings in the vocabulary\n",
    "        self.embedding_matrix = self.tokenizer.embedding(self.tokenizer.encode(list(self.stoi.keys())))\n",
    "\n",
    "    def prepare_dataset(self): # will also build self.edge_stat and self.public_edge_mask\n",
    "        # preparing self.train_dataset\n",
    "        # gets the first MAX_LENGTH words from each sentence in train_dataset and converts them to ints\n",
    "        node_sets = [[self.stoi.get(vocab, 0) for vocab in re.findall(r\"[\\w']+|[.,!?;]\", sentence)][:self.MAX_LENGTH] for _, sentence in self.train_dataset] # Only retrieve the first MAX_LENGTH words in each document\n",
    "        # This function iterates through the nodeset and creates a neighborset which connects each node to the other nodes that are within the window of size p\n",
    "        neighbor_sets = [create_neighbor_set(node_set, p=self.p) for node_set in node_sets]\n",
    "        # gets the one-hot encoding of the labels\n",
    "        labels = [self.label_dict[label] for label, _ in self.train_dataset]\n",
    "\n",
    "        # Construct edge statistics and public edge mask\n",
    "        edge_stat, public_edge_mask = self.build_public_edge_mask(node_sets, neighbor_sets, min_freq=self.min_freq)\n",
    "        \n",
    "        train_dataset = TextLevelGNNDataset(node_sets, neighbor_sets, public_edge_mask, labels)\n",
    "\n",
    "        # preparing self.validation_dataset\n",
    "        node_sets = [[self.stoi.get(vocab, 0) for vocab in sentence.strip().split(' ')][:self.MAX_LENGTH] for _, sentence in self.validation_dataset] # Only retrieve the first MAX_LENGTH words in each document\n",
    "        neighbor_sets = [create_neighbor_set(node_set, p=self.p) for node_set in node_sets]\n",
    "        labels = [self.label_dict[label] for label, _ in self.validation_dataset]\n",
    "        validation_dataset = TextLevelGNNDataset(node_sets, neighbor_sets, public_edge_mask, labels)\n",
    "\n",
    "        # preparing self.test_dataset\n",
    "        node_sets = [[self.stoi.get(vocab, 0) for vocab in sentence.strip().split(' ')][:self.MAX_LENGTH] for _, sentence in self.test_dataset] # Only retrieve the first MAX_LENGTH words in each document\n",
    "        neighbor_sets = [create_neighbor_set(node_set, p=self.p) for node_set in node_sets]\n",
    "        labels = [self.label_dict[label] for label, _ in self.test_dataset]\n",
    "        test_dataset = TextLevelGNNDataset(node_sets, neighbor_sets, public_edge_mask, labels)\n",
    "\n",
    "        return train_dataset, validation_dataset, test_dataset, edge_stat, public_edge_mask\n",
    "\n",
    "    def build_public_edge_mask_new(self, node_sets, neighbor_sets, min_freq=2):\n",
    "        # edge_stat is a torch.tensor that measures the edges of all vocab tokens with all other vocab tokens\n",
    "        edge_stat = torch.zeros(self.vocab_count, self.vocab_count)\n",
    "        for neighbor_set in neighbor_sets:\n",
    "            for neighbor in neighbor_set:\n",
    "                for to_node in neighbor:\n",
    "                    # all of the rows in node_set and in column to_node are increased by 1\n",
    "                    # create neighbors_temp which removes one single occurrence of to_node,\n",
    "                    # that way the edges only connect the same node with itself if it shows up multiple times in neighbor\n",
    "                    neighbors_temp = copy.deepcopy(neighbor)\n",
    "                    neighbors_temp.remove(to_node)\n",
    "                    # connect all neighbors to the node\n",
    "                    edge_stat[neighbors_temp, to_node] += 1\n",
    "                    # connect all nodes to the neighbors\n",
    "                    edge_stat[to_node, neighbors_temp] += 1\n",
    "        public_edge_mask = edge_stat < min_freq # mark True at uncommon edges\n",
    "        return edge_stat, public_edge_mask\n",
    "\n",
    "    def build_public_edge_mask(self, node_sets, neighbor_sets, min_freq=2):\n",
    "        # edge_stat is a torch.tensor that measures the edges of all vocab tokens with all other vocab tokens\n",
    "        edge_stat = torch.zeros(self.vocab_count, self.vocab_count)\n",
    "        for node_set, neighbor_set in zip(node_sets, neighbor_sets):\n",
    "            for neighbor in neighbor_set:\n",
    "                for to_node in neighbor:\n",
    "                    # all of the rows in node_set and in column to_node are increased by 1\n",
    "                    edge_stat[node_set, to_node] += 1\n",
    "        public_edge_mask = edge_stat < min_freq # mark True at uncommon edges\n",
    "        return edge_stat, public_edge_mask"
   ]
  },
  {
   "cell_type": "markdown",
   "id": "b774d059",
   "metadata": {},
   "source": [
    "## Instantiating train, validation, and test dataset"
   ]
  },
  {
   "cell_type": "code",
   "execution_count": 29,
   "id": "357d3fb3",
   "metadata": {},
   "outputs": [],
   "source": [
    "class TextLevelGNNDataset(Dataset): # For instantiating train, validation and test dataset\n",
    "    def __init__(self, node_sets, neighbor_sets, public_edge_mask, labels):\n",
    "        super(TextLevelGNNDataset).__init__()\n",
    "        self.node_sets = node_sets\n",
    "        self.neighbor_sets = neighbor_sets\n",
    "        self.public_edge_mask = public_edge_mask\n",
    "        self.labels = labels\n",
    "\n",
    "    def __getitem__(self, i):\n",
    "        return torch.LongTensor(self.node_sets[i]), \\\n",
    "               torch.nn.utils.rnn.pad_sequence([torch.LongTensor(neighbor) for neighbor in self.neighbor_sets[i]], batch_first=True, padding_value=1), \\\n",
    "               self.public_edge_mask[torch.LongTensor(self.node_sets[i]).unsqueeze(-1).repeat(1, torch.nn.utils.rnn.pad_sequence([torch.LongTensor(neighbor) for neighbor in self.neighbor_sets[i]], batch_first=True, padding_value=1).shape[-1]), torch.nn.utils.rnn.pad_sequence([torch.LongTensor(neighbor) for neighbor in self.neighbor_sets[i]], batch_first=True, padding_value=1)], \\\n",
    "               torch.FloatTensor(self.labels[i])\n",
    "\n",
    "    def __len__(self):\n",
    "        return len(self.labels)"
   ]
  },
  {
   "cell_type": "markdown",
   "id": "1eafe096",
   "metadata": {},
   "source": [
    "## Create Neighbor Set Function\n",
    "This function iterates through the nodeset and creates a neighborset which connects each node to the other nodes that are within the window of size p."
   ]
  },
  {
   "cell_type": "code",
   "execution_count": 30,
   "id": "a260b15a",
   "metadata": {},
   "outputs": [],
   "source": [
    "def create_neighbor_set(node_set, p=2):\n",
    "    if type(node_set[0]) != int:\n",
    "        raise ValueError('node_set should be a 1D list!')\n",
    "    if p < 0:\n",
    "        raise ValueError('p should be an integer >= 0!')\n",
    "    sequence_length = len(node_set)\n",
    "    neighbor_set = []\n",
    "    for i in range(sequence_length):\n",
    "        neighbor = []\n",
    "        for j in range(-p, p+1):\n",
    "            if 0 <= i + j < sequence_length:\n",
    "                neighbor.append(node_set[i+j])\n",
    "        neighbor_set.append(neighbor)\n",
    "    return neighbor_set\n",
    "# example:\n",
    "# single_nodeset = [8145, 15469, 446, 6223, 5523, 4492, 8145, 11493, 11578, 9559]\n",
    "# create_neighbor_set(single_nodeset)"
   ]
  },
  {
   "cell_type": "markdown",
   "id": "ca13fc3f",
   "metadata": {},
   "source": [
    "## Padding Sequences and Tensors Functions"
   ]
  },
  {
   "cell_type": "code",
   "execution_count": 31,
   "id": "799b08cc",
   "metadata": {},
   "outputs": [],
   "source": [
    "def pad_custom_sequence(sequences):\n",
    "    '''\n",
    "    To pad different sequences into a padded tensor for training. The main purpose of this function is to separate different sequence, pad them in different ways and return padded sequences.\n",
    "    Input:\n",
    "        sequences <list>: A sequence with a length of 4, representing the node sets sequence in index 0, neighbor sets sequence in index 1, public edge mask sequence in index 2 and label sequence in index 3.\n",
    "                          And the length of each sequences are same as the batch size.\n",
    "                          sequences: [node_sets_sequence, neighbor_sets_sequence, public_edge_mask_sequence, label_sequence]\n",
    "    Return:\n",
    "        node_sets_sequence <torch.LongTensor>: The padded node sets sequence (works with batch_size >= 1).\n",
    "        neighbor_sets_sequence <torch.LongTensor>: The padded neighbor sets sequence (works with batch_size >= 1).\n",
    "        public_edge_mask_sequence <torch.BoolTensor>: The padded public edge mask sequence (works with batch_size >= 1).\n",
    "        label_sequence <torch.FloatTensor>: The padded label sequence (works with batch_size >= 1).\n",
    "    '''\n",
    "    node_sets_sequence = []\n",
    "    neighbor_sets_sequence = []\n",
    "    public_edge_mask_sequence = []\n",
    "    label_sequence = []\n",
    "    for node_sets, neighbor_sets, public_edge_mask, label in sequences:\n",
    "        node_sets_sequence.append(node_sets)\n",
    "        neighbor_sets_sequence.append(neighbor_sets)\n",
    "        public_edge_mask_sequence.append(public_edge_mask)\n",
    "        label_sequence.append(label)\n",
    "    node_sets_sequence = torch.nn.utils.rnn.pad_sequence(node_sets_sequence, batch_first=True, padding_value=1)\n",
    "    neighbor_sets_sequence, _ = padding_tensor(neighbor_sets_sequence)\n",
    "    public_edge_mask_sequence, _ = padding_tensor(public_edge_mask_sequence)\n",
    "    label_sequence = torch.nn.utils.rnn.pad_sequence(label_sequence, batch_first=True, padding_value=1)\n",
    "    return node_sets_sequence, neighbor_sets_sequence, public_edge_mask_sequence, label_sequence\n"
   ]
  },
  {
   "cell_type": "code",
   "execution_count": 32,
   "id": "1f2c3643",
   "metadata": {},
   "outputs": [],
   "source": [
    "def padding_tensor(sequences, padding_idx=1):\n",
    "    '''\n",
    "    To pad tensor of different shape to be of the same shape, i.e. padding [tensor.rand(2, 3), tensor.rand(3, 5)] to a shape (2, 3, 5), where 0th dimension is batch_size, 1st and 2nd dimensions are padded.\n",
    "    Input:\n",
    "        sequences <list>: A list of tensors\n",
    "        padding_idx <int>: The index that corresponds to the padding index\n",
    "    Return:\n",
    "        out_tensor <torch.tensor>: The padded tensor\n",
    "        mask <torch.tensor>: A boolean torch tensor where 1 (represents '<pad>') are marked as true\n",
    "    '''\n",
    "    num = len(sequences)\n",
    "    max_len_0 = max([s.shape[0] for s in sequences])\n",
    "    max_len_1 = max([s.shape[1] for s in sequences])\n",
    "    out_dims = (num, max_len_0, max_len_1)\n",
    "    out_tensor = sequences[0].data.new(*out_dims).fill_(padding_idx)\n",
    "    for i, tensor in enumerate(sequences):\n",
    "        len_0 = tensor.size(0)\n",
    "        len_1 = tensor.size(1)\n",
    "        out_tensor[i, :len_0, :len_1] = tensor\n",
    "    mask = out_tensor == padding_idx # Marking all places with padding_idx as mask\n",
    "    return out_tensor, mask"
   ]
  },
  {
   "cell_type": "markdown",
   "id": "eb645cef",
   "metadata": {},
   "source": [
    "# Message Passing Function"
   ]
  },
  {
   "cell_type": "code",
   "execution_count": 33,
   "id": "486fd284",
   "metadata": {},
   "outputs": [],
   "source": [
    "class MessagePassing(nn.Module):\n",
    "    def __init__(self, vertice_count, input_size, out_size, dropout_rate=0, padding_idx=1):\n",
    "        super(MessagePassing, self).__init__()\n",
    "        self.vertice_count = vertice_count # |V|\n",
    "        self.input_size = input_size # d\n",
    "        self.out_size = out_size # c\n",
    "        self.dropout_rate = dropout_rate\n",
    "        self.padding_idx = padding_idx\n",
    "        self.information_rate = nn.Parameter(torch.rand(self.vertice_count, 1)) # (|V|, 1), which means it is a column vector\n",
    "        self.linear = nn.Linear(self.input_size, self.out_size) # (d, c)\n",
    "        self.dropout = nn.Dropout(self.dropout_rate)\n",
    "\n",
    "    def forward(self, node_sets, embedded_node, edge_weight, embedded_neighbor_node):\n",
    "        # node_sets: (batch_size, l)\n",
    "        # embedded_node: (batch_size, l, d)\n",
    "        # edge_weight: (batch_size, max_sentence_length, max_neighbor_count)\n",
    "        # embedded_neighbor_node: (batch_size, max_sentence_length, max_neighbor_count, d)\n",
    "\n",
    "        tmp_tensor = (edge_weight.view(-1, 1) * embedded_neighbor_node.view(-1, self.input_size)).view(embedded_neighbor_node.shape) # (batch_size, max_sentence_length, max_neighbor_count, d)\n",
    "        tmp_tensor = tmp_tensor.masked_fill(tmp_tensor == 0, -1e18) # (batch_size, max_sentence_length, max_neighbor_count, d), mask for M such that masked places are marked as -1e18\n",
    "        tmp_tensor = self.dropout(tmp_tensor)\n",
    "        M = tmp_tensor.max(dim=2)[0] # (batch_size, max_sentence_length, d), which is same shape as embedded_node (batch_size, l, d)\n",
    "        information_rate = self.information_rate[node_sets] # (batch_size, l, 1)\n",
    "        information_rate = information_rate.masked_fill((node_sets == self.padding_idx).unsqueeze(-1), 1) # (batch_size, l, 1), Fill the information rate of the padding index as 1, such that new e_n = (1-i_r) * M + i_r * e_n = (1-1) * 0 + 1 * e_n = e_n (no update)\n",
    "        embedded_node = (1 - information_rate) * M + information_rate * embedded_node # (batch_size, l, d)\n",
    "        sum_embedded_node = embedded_node.sum(dim=1) # (batch_size, d)\n",
    "        x = F.relu(self.linear(sum_embedded_node)) # (batch_size, c)\n",
    "#         x = self.dropout(x) # if putting dropout with p=0.5 here, it is equivalent to wiping 4 choices out of 8 choices on the question sheet, which does not make sense. If a dropout layer is placed at here, it works the best when p=0 (disabled), followed by p=0.05, ..., p=0.5 (worst and does not even converge).\n",
    "        y = F.softmax(x, dim=1) # (batch_size, c) along the c dimension\n",
    "        return y"
   ]
  },
  {
   "cell_type": "markdown",
   "id": "dd23edf1",
   "metadata": {},
   "source": [
    "## Building the GNN Function"
   ]
  },
  {
   "cell_type": "code",
   "execution_count": 34,
   "id": "13f20652",
   "metadata": {},
   "outputs": [],
   "source": [
    "class TextLevelGNN(nn.Module):\n",
    "    def __init__(self, pretrained_embeddings, out_size=8, dropout_rate=0, padding_idx=1):\n",
    "        super(TextLevelGNN, self).__init__()\n",
    "        self.out_size = out_size # c\n",
    "        self.padding_idx = padding_idx\n",
    "        self.weight_matrix = nn.Parameter(torch.randn(pretrained_embeddings.shape[0], pretrained_embeddings.shape[0])) # (|V|, |V|)        \n",
    "        self.embedding = nn.Embedding.from_pretrained(pretrained_embeddings, freeze=False, padding_idx=self.padding_idx) # (|V|, d)\n",
    "        self.message_passing = MessagePassing(vertice_count=pretrained_embeddings.shape[0], input_size=pretrained_embeddings.shape[1], out_size=self.out_size, dropout_rate=dropout_rate, padding_idx=self.padding_idx) # input_size: (d,); out_size: (c,)\n",
    "        self.public_edge_weight = nn.Parameter(torch.randn(1, 1)) # (1, 1)\n",
    "\n",
    "    def forward(self, node_sets, neighbor_sets, public_edge_mask):\n",
    "        # node_sets: (batch_size, l)\n",
    "        # neighbor_sets: (batch_size, max_sentence_length, max_neighbor_count)\n",
    "        # neighbor_sets_mask: (batch_size, max_sentence_length, max_neighbor_count) (no need)\n",
    "        # public_edge_mask: (batch_size, max_sentence_length, max_neighbor_count)\n",
    "\n",
    "        embedded_node = self.embedding(node_sets) # (batch_size, l, d)\n",
    "        edge_weight = model.weight_matrix[node_sets.unsqueeze(2).repeat(1, 1, neighbor_sets.shape[-1]), neighbor_sets] # (batch_size, max_sentence_length, max_neighbor_count), neighbor_sets.shape[-1]: eg p=2, this expression=5; p=3, this expression=7. This is to first make node_sets to have same shape with neighbor_sets, then just do 1 query instead of 32*100 queries to speed up performance\n",
    "        a = edge_weight * ~public_edge_mask # (batch_size, max_sentence_length, max_neighbor_count)\n",
    "        b = self.public_edge_weight.unsqueeze(2).expand(1, public_edge_mask.shape[-2], public_edge_mask.shape[-1]) * public_edge_mask # (batch_size, max_sentence_length, max_neighbor_count)\n",
    "        edge_weight = a + b # (batch_size, max_sentence_length, max_neighbor_count)\n",
    "        embedded_neighbor_node = self.embedding(neighbor_sets) # (batch_size, max_sentece_length, max_neighbor_count, d)\n",
    "\n",
    "        # Apply mask to edge_weight, to mask and cut-off any relationships to the padding nodes\n",
    "        edge_weight = edge_weight.masked_fill((node_sets.unsqueeze(2).repeat(1, 1, neighbor_sets.shape[-1]) == self.padding_idx) | (neighbor_sets == self.padding_idx), 0) # (batch_size, max_sentence_length, max_neighbor_count)\n",
    "        x = self.message_passing(node_sets, embedded_node, edge_weight, embedded_neighbor_node) # (batch_size, c)\n",
    "        return x"
   ]
  },
  {
   "cell_type": "markdown",
   "id": "bdc5342d",
   "metadata": {},
   "source": [
    "## Setting up Arguments"
   ]
  },
  {
   "cell_type": "code",
   "execution_count": 85,
   "id": "efe30737",
   "metadata": {},
   "outputs": [],
   "source": [
    "args = {'cuda':'0',\n",
    "       'embedding_size':300,\n",
    "       'p':3,\n",
    "       'min_freq':2,\n",
    "       'max_length':70,\n",
    "       'dropout':0,\n",
    "       'lr':1e-3,\n",
    "       'lr_decay_factor':0.9,\n",
    "       'lr_decay_every':5,\n",
    "       'weight_decay':1e-4,\n",
    "       'early_stopping_patience':10,\n",
    "       'early_stopping_criteria':'loss',\n",
    "       'epoch':300}"
   ]
  },
  {
   "cell_type": "code",
   "execution_count": 86,
   "id": "1ebe034d",
   "metadata": {},
   "outputs": [],
   "source": [
    "# converting args to series so they can be referenced the same way that argparse.ArgumentParser()\n",
    "# is reference in running a python script in the terminal\n",
    "args = pd.Series(data=[args[key] for key in args],index=[key for key in args.keys()])"
   ]
  },
  {
   "cell_type": "markdown",
   "id": "01b69e91",
   "metadata": {},
   "source": [
    "# Main AI"
   ]
  },
  {
   "cell_type": "code",
   "execution_count": 87,
   "id": "31e178a9",
   "metadata": {},
   "outputs": [],
   "source": [
    "#creating tokenizer\n",
    "tokenizer = GloveTokenizer(f'embeddings/glove.6B.{args.embedding_size}d.txt')"
   ]
  },
  {
   "cell_type": "code",
   "execution_count": 50,
   "id": "ce25b606",
   "metadata": {},
   "outputs": [],
   "source": [
    "# creating train_loader, validation_loader, and test_loader\n",
    "dataset = TextLevelGNNDatasetClass(train_filename='r8-train-all-terms.txt',\n",
    "                                   test_filename='r8-test-all-terms.txt',\n",
    "                                   train_validation_split=0.8,\n",
    "                                   tokenizer=tokenizer,\n",
    "                                   p=args.p,\n",
    "                                   min_freq=args.min_freq,\n",
    "                                   MAX_LENGTH=args.max_length)\n",
    "\n",
    "train_loader = DataLoader(dataset.train_dataset, batch_size=32, shuffle=True, collate_fn=pad_custom_sequence)\n",
    "validation_loader = DataLoader(dataset.validation_dataset, batch_size=32, shuffle=True, collate_fn=pad_custom_sequence)\n",
    "test_loader = DataLoader(dataset.test_dataset, batch_size=32, shuffle=True, collate_fn=pad_custom_sequence)"
   ]
  },
  {
   "cell_type": "code",
   "execution_count": 51,
   "id": "1c9653b5",
   "metadata": {},
   "outputs": [],
   "source": [
    "# setting device to cuda if gpu is available\n",
    "device = torch.device(f'cuda:{args.cuda}') if torch.cuda.is_available() else torch.device('cpu')"
   ]
  },
  {
   "cell_type": "code",
   "execution_count": 52,
   "id": "f793bcc8",
   "metadata": {},
   "outputs": [],
   "source": [
    "# building model\n",
    "model = TextLevelGNN(pretrained_embeddings=torch.tensor(dataset.embedding_matrix), dropout_rate=args.dropout).to(device)"
   ]
  },
  {
   "cell_type": "code",
   "execution_count": 53,
   "id": "7c3b94b3",
   "metadata": {},
   "outputs": [
    {
     "name": "stdout",
     "output_type": "stream",
     "text": [
      "cuda                            0\n",
      "embedding_size                300\n",
      "p                               3\n",
      "min_freq                        2\n",
      "max_length                     70\n",
      "dropout                         0\n",
      "lr                          0.001\n",
      "lr_decay_factor               0.9\n",
      "lr_decay_every                  5\n",
      "weight_decay               0.0001\n",
      "warm_up_epoch                   0\n",
      "early_stopping_patience        10\n",
      "early_stopping_criteria      loss\n",
      "epoch                         300\n",
      "dtype: object\n"
     ]
    }
   ],
   "source": [
    "# setting training parameters\n",
    "criterion = nn.BCELoss()\n",
    "\n",
    "lr = args.lr\n",
    "lr_decay_factor = args.lr_decay_factor\n",
    "lr_decay_every = args.lr_decay_every\n",
    "weight_decay = args.weight_decay\n",
    "\n",
    "early_stopping_patience = args.early_stopping_patience\n",
    "early_stopping_criteria = args.early_stopping_criteria\n",
    "best_epoch = 0 # Initialize\n",
    "\n",
    "training = {}\n",
    "validation = {}\n",
    "testing = {}\n",
    "training['accuracy'] = []\n",
    "training['loss'] = []\n",
    "validation['accuracy'] = []\n",
    "validation['loss'] = []\n",
    "testing['accuracy'] = []\n",
    "testing['loss'] = []\n",
    "\n",
    "print(args)"
   ]
  },
  {
   "cell_type": "markdown",
   "id": "5c8bccde",
   "metadata": {},
   "source": [
    "## Training the Model"
   ]
  },
  {
   "cell_type": "code",
   "execution_count": 54,
   "id": "6c57b291",
   "metadata": {},
   "outputs": [
    {
     "name": "stdout",
     "output_type": "stream",
     "text": [
      "Epoch: 1, Training Loss: 55.4425, Validation Loss: 13.1873, Testing Loss: 25.9972, Training Accuracy: 0.2826, Validation Accuracy: 0.2789, Testing Accuracy: 0.3175, Time Used: 9.48s\n",
      "Epoch: 2, Training Loss: 51.9937, Validation Loss: 13.1874, Testing Loss: 25.9974, Training Accuracy: 0.2940, Validation Accuracy: 0.2789, Testing Accuracy: 0.3175, Time Used: 9.02s\n",
      "Epoch: 3, Training Loss: 51.9943, Validation Loss: 13.1851, Testing Loss: 25.9977, Training Accuracy: 0.2938, Validation Accuracy: 0.2799, Testing Accuracy: 0.3175, Time Used: 9.01s\n",
      "Epoch: 4, Training Loss: 51.9468, Validation Loss: 13.1595, Testing Loss: 25.8962, Training Accuracy: 0.2963, Validation Accuracy: 0.2835, Testing Accuracy: 0.3234, Time Used: 9.01s\n",
      "Epoch: 5, Training Loss: 51.3057, Validation Loss: 13.0183, Testing Loss: 25.6247, Training Accuracy: 0.3191, Validation Accuracy: 0.3008, Testing Accuracy: 0.3335, Time Used: 9.03s\n",
      "Epoch: 6, Training Loss: 26.0781, Validation Loss: 4.5329, Testing Loss: 9.0667, Training Accuracy: 0.6864, Validation Accuracy: 0.8086, Testing Accuracy: 0.8090, Time Used: 9.02s\n",
      "Epoch: 7, Training Loss: 14.8475, Validation Loss: 4.0268, Testing Loss: 7.8902, Training Accuracy: 0.8136, Validation Accuracy: 0.8058, Testing Accuracy: 0.8214, Time Used: 9.02s\n",
      "Epoch: 8, Training Loss: 12.9969, Validation Loss: 3.8025, Testing Loss: 7.5218, Training Accuracy: 0.8247, Validation Accuracy: 0.8095, Testing Accuracy: 0.8232, Time Used: 9.02s\n",
      "Epoch: 9, Training Loss: 12.3273, Validation Loss: 3.5194, Testing Loss: 7.3524, Training Accuracy: 0.8320, Validation Accuracy: 0.8159, Testing Accuracy: 0.8237, Time Used: 9.02s\n",
      "Epoch: 10, Training Loss: 11.5609, Validation Loss: 3.3024, Testing Loss: 6.7866, Training Accuracy: 0.8359, Validation Accuracy: 0.8140, Testing Accuracy: 0.8296, Time Used: 9.02s\n",
      "Epoch: 11, Training Loss: 11.4698, Validation Loss: 3.4475, Testing Loss: 7.5433, Training Accuracy: 0.8336, Validation Accuracy: 0.8095, Testing Accuracy: 0.8282, Time Used: 9.02s\n",
      "Epoch: 12, Training Loss: 10.8273, Validation Loss: 3.1340, Testing Loss: 6.2215, Training Accuracy: 0.8366, Validation Accuracy: 0.8095, Testing Accuracy: 0.8314, Time Used: 9.08s\n",
      "Epoch: 13, Training Loss: 10.4620, Validation Loss: 3.0921, Testing Loss: 6.4007, Training Accuracy: 0.8389, Validation Accuracy: 0.8095, Testing Accuracy: 0.8291, Time Used: 9.12s\n",
      "Epoch: 14, Training Loss: 10.2372, Validation Loss: 3.2395, Testing Loss: 6.2288, Training Accuracy: 0.8400, Validation Accuracy: 0.8077, Testing Accuracy: 0.8328, Time Used: 9.08s\n",
      "Epoch: 15, Training Loss: 10.0917, Validation Loss: 3.1482, Testing Loss: 6.3837, Training Accuracy: 0.8407, Validation Accuracy: 0.8122, Testing Accuracy: 0.8232, Time Used: 9.05s\n",
      "Epoch: 16, Training Loss: 9.1811, Validation Loss: 2.7697, Testing Loss: 5.2219, Training Accuracy: 0.8888, Validation Accuracy: 0.8706, Testing Accuracy: 0.8917, Time Used: 9.24s\n",
      "Epoch: 17, Training Loss: 7.5944, Validation Loss: 2.4089, Testing Loss: 4.5920, Training Accuracy: 0.9079, Validation Accuracy: 0.8778, Testing Accuracy: 0.9018, Time Used: 9.21s\n",
      "Epoch: 18, Training Loss: 6.7755, Validation Loss: 2.3045, Testing Loss: 5.0332, Training Accuracy: 0.9139, Validation Accuracy: 0.8815, Testing Accuracy: 0.9050, Time Used: 9.26s\n",
      "Epoch: 19, Training Loss: 6.3797, Validation Loss: 3.7873, Testing Loss: 6.4991, Training Accuracy: 0.9166, Validation Accuracy: 0.8833, Testing Accuracy: 0.9054, Time Used: 9.10s\n",
      "Epoch: 20, Training Loss: 5.8852, Validation Loss: 2.9578, Testing Loss: 4.7673, Training Accuracy: 0.9196, Validation Accuracy: 0.8833, Testing Accuracy: 0.9114, Time Used: 9.09s\n",
      "Epoch: 21, Training Loss: 4.8763, Validation Loss: 2.4880, Testing Loss: 5.0609, Training Accuracy: 0.9540, Validation Accuracy: 0.9289, Testing Accuracy: 0.9370, Time Used: 9.20s\n",
      "Epoch: 22, Training Loss: 4.0013, Validation Loss: 3.2482, Testing Loss: 5.6011, Training Accuracy: 0.9601, Validation Accuracy: 0.9335, Testing Accuracy: 0.9402, Time Used: 9.16s\n",
      "Epoch: 23, Training Loss: 3.6130, Validation Loss: 1.7076, Testing Loss: 4.8092, Training Accuracy: 0.9624, Validation Accuracy: 0.9362, Testing Accuracy: 0.9415, Time Used: 9.15s\n",
      "Epoch: 24, Training Loss: 3.4357, Validation Loss: 3.2524, Testing Loss: 4.7848, Training Accuracy: 0.9644, Validation Accuracy: 0.9344, Testing Accuracy: 0.9392, Time Used: 9.13s\n",
      "Epoch: 25, Training Loss: 3.2494, Validation Loss: 13.3319, Testing Loss: 32.0090, Training Accuracy: 0.9660, Validation Accuracy: 0.9262, Testing Accuracy: 0.9292, Time Used: 9.15s\n",
      "Early stopping... (No further decrease in validation loss) for consecutive 10 epochs.\n"
     ]
    }
   ],
   "source": [
    "for epoch in range(args.epoch):\n",
    "    model.train()\n",
    "    train_loss = 0\n",
    "    train_correct_items = 0\n",
    "    previous_epoch_timestamp = time()\n",
    "\n",
    "    if epoch % lr_decay_every == 0: # Update optimizer for every lr_decay_every epochs\n",
    "        if epoch != 0: # When it is the first epoch, disable the lr_decay_factor\n",
    "            lr *= lr_decay_factor\n",
    "        optimizer = torch.optim.Adam(model.parameters(), lr=lr, weight_decay=weight_decay)\n",
    "\n",
    "    for i, (node_sets, neighbor_sets, public_edge_masks, labels) in enumerate(train_loader):\n",
    "        node_sets = node_sets.to(device)\n",
    "        neighbor_sets = neighbor_sets.to(device)\n",
    "        public_edge_masks = public_edge_masks.to(device)\n",
    "        labels = labels.to(device)\n",
    "        # make the predictions\n",
    "        prediction = model(node_sets, neighbor_sets, public_edge_masks)\n",
    "        # calculate loss\n",
    "        loss = criterion(prediction, labels).to(device)\n",
    "        # explicitly setting the gradients to zero before starting backpropogation\n",
    "        # because PyTorch accumulates the gradients on subsequent backward passes\n",
    "        # so the gradients need to be zeroed out, otherwise, the gradient would be a combination of the old\n",
    "        # gradient, which was already used to update the model parameters, and the newly computed gradient\n",
    "        optimizer.zero_grad()\n",
    "        loss.backward()\n",
    "        optimizer.step()\n",
    "        train_loss += loss.item()\n",
    "        train_correct_items += (prediction.argmax(dim=1) == labels.argmax(dim=1)).sum().item()\n",
    "    train_accuracy = train_correct_items / len(dataset.train_dataset)\n",
    "\n",
    "    model.eval()\n",
    "    validation_loss = 0\n",
    "    validation_correct_items = 0\n",
    "    for i, (node_sets, neighbor_sets, public_edge_masks, labels) in enumerate(validation_loader):\n",
    "        node_sets = node_sets.to(device)\n",
    "        neighbor_sets = neighbor_sets.to(device)\n",
    "        public_edge_masks = public_edge_masks.to(device)\n",
    "        labels = labels.to(device)\n",
    "        prediction = model(node_sets, neighbor_sets, public_edge_masks)\n",
    "        loss = criterion(prediction, labels).to(device)\n",
    "        validation_loss += loss.item()\n",
    "        validation_correct_items += (prediction.argmax(dim=1) == labels.argmax(dim=1)).sum().item()\n",
    "    validation_accuracy = validation_correct_items / len(dataset.validation_dataset)\n",
    "\n",
    "#     model.eval()\n",
    "    test_loss = 0\n",
    "    test_correct_items = 0\n",
    "    for i, (node_sets, neighbor_sets, public_edge_masks, labels) in enumerate(test_loader):\n",
    "        node_sets = node_sets.to(device)\n",
    "        neighbor_sets = neighbor_sets.to(device)\n",
    "        public_edge_masks = public_edge_masks.to(device)\n",
    "        labels = labels.to(device)\n",
    "        prediction = model(node_sets, neighbor_sets, public_edge_masks)\n",
    "        loss = criterion(prediction, labels).to(device)\n",
    "        test_loss += loss.item()\n",
    "        test_correct_items += (prediction.argmax(dim=1) == labels.argmax(dim=1)).sum().item()\n",
    "    test_accuracy = test_correct_items / len(dataset.test_dataset)\n",
    "    print(f'Epoch: {epoch+1}, Training Loss: {train_loss:.4f}, Validation Loss: {validation_loss:.4f}, Testing Loss: {test_loss:.4f}, Training Accuracy: {train_accuracy:.4f}, Validation Accuracy: {validation_accuracy:.4f}, Testing Accuracy: {test_accuracy:.4f}, Time Used: {time()-previous_epoch_timestamp:.2f}s')\n",
    "    training['accuracy'].append(train_accuracy)\n",
    "    training['loss'].append(train_loss)\n",
    "    validation['accuracy'].append(validation_accuracy)\n",
    "    validation['loss'].append(validation_loss)\n",
    "    testing['accuracy'].append(test_accuracy)\n",
    "    testing['loss'].append(test_loss)"
   ]
  },
  {
   "cell_type": "code",
   "execution_count": 58,
   "id": "bb125c39",
   "metadata": {},
   "outputs": [],
   "source": [
    "df = pd.concat([pd.DataFrame(training), pd.DataFrame(validation), pd.DataFrame(testing)], axis=1)\n",
    "df.columns = ['Training Accuracy', 'Training Loss', 'Validation Accuracy', 'Validation Loss', 'Testing Accuracy', 'Testing Loss']\n",
    "df.to_csv(f'embedding_size={args.embedding_size},p={args.p},min_freq={args.min_freq},max_length={args.max_length},dropout={args.dropout},lr={args.lr},lr_decay_factor={args.lr_decay_factor},lr_decay_every={args.lr_decay_every},weight_decay={args.weight_decay},early_stopping_patience={args.early_stopping_patience},early_stopping_criteria={args.early_stopping_criteria},epoch={args.epoch}.csv') # Logging"
   ]
  },
  {
   "cell_type": "code",
   "execution_count": 59,
   "id": "6213eba5",
   "metadata": {},
   "outputs": [
    {
     "data": {
      "image/png": "[encoded data removed]",
      "text/plain": [
       "<Figure size 432x288 with 1 Axes>"
      ]
     },
     "metadata": {
      "needs_background": "light"
     },
     "output_type": "display_data"
    },
    {
     "data": {
      "image/png": "[encoded data removed]",
      "text/plain": [
       "<Figure size 432x288 with 1 Axes>"
      ]
     },
     "metadata": {
      "needs_background": "light"
     },
     "output_type": "display_data"
    }
   ],
   "source": [
    "import matplotlib.pyplot as plt\n",
    "\n",
    "plt.plot(training['loss'], label='Training Loss')\n",
    "plt.plot(validation['loss'], label='Validation Loss')\n",
    "plt.plot(testing['loss'], label='Testing Loss')\n",
    "plt.legend()\n",
    "plt.xlabel('Epoch')\n",
    "plt.ylabel('Loss')\n",
    "plt.show()\n",
    "\n",
    "plt.plot(training['accuracy'], label='Training Accuracy')\n",
    "plt.plot(validation['accuracy'], label='Validation Accuracy')\n",
    "plt.plot(testing['accuracy'], label='Testing Accuracy')\n",
    "plt.legend()\n",
    "plt.xlabel('Epoch')\n",
    "plt.ylabel('Accuracy')\n",
    "plt.show()"
   ]
  },
  {
   "cell_type": "markdown",
   "id": "a252b110",
   "metadata": {},
   "source": [
    "# Comparison with LSTM"
   ]
  },
  {
   "cell_type": "code",
   "execution_count": 150,
   "id": "d0aec7b0",
   "metadata": {},
   "outputs": [],
   "source": [
    "class TextLevelNLPDatasetClass: # This class is used to achieve parameters sharing among datasets\n",
    "    def __init__(self, train_filename, test_filename, tokenizer, MAX_LENGTH=10, p=2, min_freq=2, train_validation_split=0.8):\n",
    "        print(\"Initializing TextLevelNLPDatasetClass\")\n",
    "        self.train_filename = train_filename\n",
    "        self.test_filename = test_filename\n",
    "        self.tokenizer = tokenizer\n",
    "        self.MAX_LENGTH = MAX_LENGTH\n",
    "        #self.p = p\n",
    "        #self.min_freq = min_freq\n",
    "        self.train_validation_split = train_validation_split\n",
    "\n",
    "        self.train_data = pd.read_csv(self.train_filename, sep='\\t', header=None)\n",
    "        self.test_data = pd.read_csv(self.test_filename, sep='\\t', header=None)\n",
    "\n",
    "        self.stoi = {'<unk>': 0, '<pad>': 1} # Re-index\n",
    "        self.itos = {0: '<unk>', 1: '<pad>'} # Re-index\n",
    "        self.vocab_count = len(self.stoi)\n",
    "        self.embedding_matrix = None\n",
    "        self.label_dict = dict(zip(self.train_data[0].unique(), pd.get_dummies(self.train_data[0].unique()).values.tolist()))\n",
    "\n",
    "        self.train_dataset, self.validation_dataset = random_split(self.train_data.to_numpy(), [int(len(self.train_data) * train_validation_split), len(self.train_data) - int(len(self.train_data) * train_validation_split)])\n",
    "        self.test_dataset = self.test_data.to_numpy()\n",
    "\n",
    "        self.build_vocab() # Based on train_dataset only. Updates self.stoi, self.itos, self.vocab_count and self.embedding_matrix\n",
    "\n",
    "        self.train_dataset, self.validation_dataset, self.test_dataset = self.prepare_dataset()\n",
    "\n",
    "    def build_vocab(self):\n",
    "        print(\"Building Vocab\")\n",
    "        vocab_list = [sentence.split(' ') for _, sentence in self.train_dataset]\n",
    "        unique_vocab = []\n",
    "        for vocab in vocab_list:\n",
    "            unique_vocab.extend(vocab)\n",
    "        unique_vocab = list(set(unique_vocab))\n",
    "        for vocab in unique_vocab:\n",
    "            if vocab in self.tokenizer.stoi.keys():\n",
    "                self.stoi[vocab] = self.vocab_count\n",
    "                self.itos[self.vocab_count] = vocab\n",
    "                self.vocab_count += 1\n",
    "        self.embedding_matrix = self.tokenizer.embedding(self.tokenizer.encode(list(self.stoi.keys())))\n",
    "\n",
    "    def prepare_dataset(self): # will also build self.edge_stat and self.public_edge_mask\n",
    "        print(\"Preparing Dataset\")\n",
    "        # preparing self.train_dataset\n",
    "        # converting labels to data and converting words to numbers\n",
    "        labels = [self.label_dict[label] for label, _ in self.train_dataset]\n",
    "        train_data_encoded = [[self.stoi.get(vocab, 0) for vocab in re.findall(r\"[\\w']+|[.,!?;]\", sentence)][:self.MAX_LENGTH] for _, sentence in self.train_dataset]\n",
    "        train_dataset = TextLevelNLPDataset(train_data_encoded, labels)\n",
    "\n",
    "        # preparing self.validation_dataset\n",
    "        labels = [self.label_dict[label] for label, _ in self.validation_dataset]\n",
    "        val_data_encoded = [[self.stoi.get(vocab, 0) for vocab in re.findall(r\"[\\w']+|[.,!?;]\", sentence)][:self.MAX_LENGTH] for _, sentence in self.validation_dataset]\n",
    "        validation_dataset = TextLevelNLPDataset(val_data_encoded, labels)\n",
    "\n",
    "        # preparing self.test_dataset\n",
    "        labels = [self.label_dict[label] for label, _ in self.test_dataset]\n",
    "        test_data_encoded = [[self.stoi.get(vocab, 0) for vocab in re.findall(r\"[\\w']+|[.,!?;]\", sentence)][:self.MAX_LENGTH] for _, sentence in self.test_dataset]\n",
    "        test_dataset = TextLevelNLPDataset(test_data_encoded, labels)\n",
    "\n",
    "        return train_dataset, validation_dataset, test_dataset\n",
    "    "
   ]
  },
  {
   "cell_type": "code",
   "execution_count": 124,
   "id": "15961b16",
   "metadata": {},
   "outputs": [],
   "source": [
    "train_data = pd.read_csv(train_filename, sep='\\t', header=None)"
   ]
  },
  {
   "cell_type": "code",
   "execution_count": 125,
   "id": "53ea4057",
   "metadata": {},
   "outputs": [],
   "source": [
    "label_dict = dict(zip(train_data[0].unique(), pd.get_dummies(train_data[0].unique()).values.tolist()))"
   ]
  },
  {
   "cell_type": "code",
   "execution_count": 130,
   "id": "fa73ac24",
   "metadata": {},
   "outputs": [],
   "source": [
    "train_validation_split = 0.8\n",
    "train_dataset, validation_dataset = random_split(train_data.to_numpy(), [int(len(train_data) * train_validation_split), len(train_data) - int(len(train_data) * train_validation_split)])\n",
    "test_dataset = test_data.to_numpy()"
   ]
  },
  {
   "cell_type": "code",
   "execution_count": 133,
   "id": "bd7a19cd",
   "metadata": {},
   "outputs": [],
   "source": [
    "labels = [label_dict[label] for label, _ in train_dataset]"
   ]
  },
  {
   "cell_type": "code",
   "execution_count": 137,
   "id": "86f08444",
   "metadata": {},
   "outputs": [],
   "source": [
    "stoi = {'<unk>': 0, '<pad>': 1} # Re-index\n",
    "itos = {0: '<unk>', 1: '<pad>'} # Re-index\n",
    "vocab_count = len(stoi)"
   ]
  },
  {
   "cell_type": "code",
   "execution_count": 138,
   "id": "6e9ba4d4",
   "metadata": {},
   "outputs": [
    {
     "name": "stdout",
     "output_type": "stream",
     "text": [
      "Building Vocab\n"
     ]
    }
   ],
   "source": [
    "print(\"Building Vocab\")\n",
    "vocab_list = [sentence.split(' ') for _, sentence in train_dataset]\n",
    "unique_vocab = []\n",
    "for vocab in vocab_list:\n",
    "    unique_vocab.extend(vocab)\n",
    "unique_vocab = list(set(unique_vocab))\n",
    "for vocab in unique_vocab:\n",
    "    if vocab in tokenizer.stoi.keys():\n",
    "        stoi[vocab] = vocab_count\n",
    "        itos[vocab_count] = vocab\n",
    "        vocab_count += 1\n",
    "embedding_matrix = tokenizer.embedding(tokenizer.encode(list(stoi.keys())))"
   ]
  },
  {
   "cell_type": "code",
   "execution_count": 139,
   "id": "03d6b8fb",
   "metadata": {},
   "outputs": [],
   "source": [
    "MAX_LENGTH = 20"
   ]
  },
  {
   "cell_type": "code",
   "execution_count": 140,
   "id": "72a191e7",
   "metadata": {},
   "outputs": [],
   "source": [
    "train_xyz = [[stoi.get(vocab, 0) for vocab in re.findall(r\"[\\w']+|[.,!?;]\", sentence)][:MAX_LENGTH] for _, sentence in train_dataset]"
   ]
  },
  {
   "cell_type": "code",
   "execution_count": 142,
   "id": "f3139909",
   "metadata": {},
   "outputs": [
    {
     "data": {
      "text/plain": [
       "[2807,\n",
       " 9735,\n",
       " 52,\n",
       " 3943,\n",
       " 9886,\n",
       " 11728,\n",
       " 2807,\n",
       " 5399,\n",
       " 10430,\n",
       " 7464,\n",
       " 1761,\n",
       " 6515,\n",
       " 8197,\n",
       " 2807,\n",
       " 5399,\n",
       " 10430,\n",
       " 7464,\n",
       " 4689,\n",
       " 2863,\n",
       " 14383]"
      ]
     },
     "execution_count": 142,
     "metadata": {},
     "output_type": "execute_result"
    }
   ],
   "source": [
    "train_xyz[0]"
   ]
  },
  {
   "cell_type": "code",
   "execution_count": 296,
   "id": "729582ef",
   "metadata": {},
   "outputs": [],
   "source": [
    "class TextLevelNLPDataset(Dataset): # For instantiating train, validation and test dataset\n",
    "    def __init__(self, train_data, labels):\n",
    "        super(TextLevelGNNDataset).__init__()\n",
    "        print(\"Initializing TextLevelNLPDataset\")\n",
    "        self.train_data = train_data\n",
    "        self.labels = labels\n",
    "\n",
    "    def __getitem__(self, i):\n",
    "        return torch.LongTensor(self.train_data[i]), torch.IntTensor(self.labels[i])\n",
    "\n",
    "    def __len__(self):\n",
    "        return len(self.labels)"
   ]
  },
  {
   "cell_type": "code",
   "execution_count": 297,
   "id": "8c6b4eff",
   "metadata": {},
   "outputs": [],
   "source": [
    "from torch.nn.utils.rnn import pack_padded_sequence, pad_packed_sequence\n",
    "\n",
    "class TextLevelLSTM(nn.Module):\n",
    "    def __init__(self, pretrained_embeddings, out_size=8, dropout_rate=0, padding_idx=1):\n",
    "        super(TextLevelLSTM, self).__init__()\n",
    "        self.embedding = nn.Embedding.from_pretrained(pretrained_embeddings, freeze=False) # (|V|, d)\n",
    "        self.dimension = 10\n",
    "        self.lstm = nn.LSTM(input_size=20,\n",
    "                           hidden_size=self.dimension,\n",
    "                           num_layers=1,\n",
    "                           batch_first=True,\n",
    "                           bidirectional=True)\n",
    "        self.fc = nn.Linear(2*self.dimension, 1)\n",
    "        \n",
    "    def forward(self, text, text_len=10):\n",
    "\n",
    "        text_emb = self.embedding(text)\n",
    "\n",
    "        packed_input = pack_padded_sequence(text_emb, text_len, batch_first=True, enforce_sorted=False)\n",
    "        packed_output, _ = self.lstm(packed_input)\n",
    "        output, _ = pad_packed_sequence(packed_output, batch_first=True)\n",
    "\n",
    "        out_forward = output[range(len(output)), text_len - 1, :self.dimension]\n",
    "        out_reverse = output[:, 0, self.dimension:]\n",
    "        out_reduced = torch.cat((out_forward, out_reverse), 1)\n",
    "        text_fea = self.drop(out_reduced)\n",
    "\n",
    "        text_fea = self.fc(text_fea)\n",
    "        text_fea = torch.squeeze(text_fea, 1)\n",
    "        text_out = torch.sigmoid(text_fea)\n",
    "\n",
    "        return text_out        "
   ]
  },
  {
   "cell_type": "code",
   "execution_count": 298,
   "id": "053ff898",
   "metadata": {},
   "outputs": [],
   "source": [
    "def padding_tensor(sequences, padding_idx=1):\n",
    "    '''\n",
    "    To pad tensor of different shape to be of the same shape, i.e. padding [tensor.rand(2, 3), tensor.rand(3, 5)] to a shape (2, 3, 5), where 0th dimension is batch_size, 1st and 2nd dimensions are padded.\n",
    "    Input:\n",
    "        sequences <list>: A list of tensors\n",
    "        padding_idx <int>: The index that corresponds to the padding index\n",
    "    Return:\n",
    "        out_tensor <torch.tensor>: The padded tensor\n",
    "        mask <torch.tensor>: A boolean torch tensor where 1 (represents '<pad>') are marked as true\n",
    "    '''\n",
    "    num = len(sequences)\n",
    "    max_len_0 = max([s.shape[0] for s in sequences])\n",
    "    #max_len_1 = max([s.shape[1] for s in sequences])\n",
    "    out_dims = (num, max_len_0)\n",
    "    out_tensor = sequences[0].data.new(*out_dims).fill_(padding_idx)\n",
    "    for i, tensor in enumerate(sequences):\n",
    "        len_0 = tensor.size(0)\n",
    "        #len_1 = tensor.size(1)\n",
    "        out_tensor[i, :len_0] = tensor\n",
    "    mask = out_tensor == padding_idx # Marking all places with padding_idx as mask\n",
    "    return out_tensor, mask"
   ]
  },
  {
   "cell_type": "code",
   "execution_count": 299,
   "id": "352b57ce",
   "metadata": {},
   "outputs": [],
   "source": [
    "def pad_custom_sequence_NLP(sequences):\n",
    "    texts_sequence = []\n",
    "    label_sequence = []\n",
    "    \n",
    "    for text_set, label_set in sequences:\n",
    "        texts_sequence.append(text_set)\n",
    "        label_sequence.append(label_set)\n",
    "    #texts_sequence = torch.nn.utils.rnn.pad_sequence(texts_sequence, batch_first=True, padding_value=1)\n",
    "    texts_sequence, _ = padding_tensor(texts_sequence)\n",
    "    label_sequence, _ = padding_tensor(label_sequence)\n",
    "    return texts_sequence, label_sequence"
   ]
  },
  {
   "cell_type": "code",
   "execution_count": 300,
   "id": "44d07a51",
   "metadata": {},
   "outputs": [],
   "source": [
    "#tokenizer = GloveTokenizer(f'embeddings/glove.6B.300d.txt')"
   ]
  },
  {
   "cell_type": "code",
   "execution_count": 301,
   "id": "f8f08a80",
   "metadata": {},
   "outputs": [
    {
     "name": "stdout",
     "output_type": "stream",
     "text": [
      "Initializing TextLevelNLPDatasetClass\n",
      "Building Vocab\n",
      "Preparing Dataset\n",
      "Initializing TextLevelNLPDataset\n",
      "Initializing TextLevelNLPDataset\n",
      "Initializing TextLevelNLPDataset\n"
     ]
    }
   ],
   "source": [
    "dataset = TextLevelNLPDatasetClass(train_filename='r8-train-all-terms.txt',\n",
    "                                   test_filename='r8-test-all-terms.txt',\n",
    "                                   train_validation_split=0.8,\n",
    "                                   tokenizer=tokenizer,\n",
    "                                   MAX_LENGTH=10)\n",
    "train_loader = DataLoader(dataset.train_dataset, batch_size=32, shuffle=True, collate_fn=pad_custom_sequence_NLP)\n",
    "validation_loader = DataLoader(dataset.validation_dataset, batch_size=32, shuffle=True, collate_fn=pad_custom_sequence_NLP)\n",
    "test_loader = DataLoader(dataset.test_dataset, batch_size=32, shuffle=True, collate_fn=pad_custom_sequence_NLP)"
   ]
  },
  {
   "cell_type": "code",
   "execution_count": 302,
   "id": "20a6bbea",
   "metadata": {},
   "outputs": [
    {
     "name": "stdout",
     "output_type": "stream",
     "text": [
      "(tensor([ 7058, 10837, 11294, 12527, 12669,  7332,  7979,  2337,  7979,  2251]), tensor([0, 0, 1, 0, 0, 0, 0, 0], dtype=torch.int32))\n"
     ]
    }
   ],
   "source": [
    "for ind, item in enumerate(dataset.train_dataset):\n",
    "    #print(ind)\n",
    "    if ind == 0:\n",
    "        print(item)\n",
    "\n",
    "    #print(len(item[0].numpy()))"
   ]
  },
  {
   "cell_type": "code",
   "execution_count": 303,
   "id": "b654e591",
   "metadata": {},
   "outputs": [
    {
     "name": "stdout",
     "output_type": "stream",
     "text": [
      "(tensor([[12665,  4788,  5978, 12155,  7773,  6987, 11428,  1766,  4250,  5427],\n",
      "        [ 1862,  8008,     0, 13526, 11905,     0, 12676,  2251, 10323,  2251],\n",
      "        [ 7442, 13314, 12866,  1589,  8654,  3969,     0,  7442, 13314,  9545],\n",
      "        [  995,  7606, 11129, 12919, 14675,  8072,  7425,  1766,  6752,   867],\n",
      "        [ 1246,  9465,  4766,  8153,  1592,  9713,  5008, 13513,  9545,  6539],\n",
      "        [ 3594,  6512,  9545,  9638, 14955,  1668,  1129, 14564,  3371,     1],\n",
      "        [ 4232,  6861, 15002, 13115, 14947,  4232,  6861,  9545,  9812,  8057],\n",
      "        [11320, 13314, 13371, 11294,     0, 12669,  7332,  9548, 14980,  2337],\n",
      "        [ 5966, 11294,     0,  3121, 10647,  3155,     0, 12676,  2251, 10323],\n",
      "        [    0,  1783,  9433,  8646, 11496, 14980,  2337,  6978, 13401,  2251],\n",
      "        [13643, 10505,  3760,  9545,  8795, 13526, 11905,     0, 12676,  2251],\n",
      "        [ 4440, 12155,  8461,  6539, 11438,   263,  8798, 12738,     7, 13145],\n",
      "        [ 2502,  2058, 15325, 13993,  2465,  3356,  8550,    53,  8885,   324],\n",
      "        [ 5788, 12654,  4440, 12155, 14882,  4250, 13047,  1337,  1766,  8569],\n",
      "        [14976,  9265,  9871,  5058,   162, 12253, 11158, 14976,  5425,  8531],\n",
      "        [ 9628,  4391, 13513, 11294,     0, 10576,  7332,  2337,  2251, 10323],\n",
      "        [ 5058,     0,    53,  8885,  3919,  4713,  8875,  5610,  5058,  1783],\n",
      "        [ 5894,  9051,     0,  8153,   120,  5894,  9051, 13513,  9545,  6539],\n",
      "        [  563,  1966,  9430, 12086,  3863, 12556,  9690, 13373, 12155,   122],\n",
      "        [  535, 13370, 14882, 12331,    53, 10334,  2092,  3438,  6928,   535],\n",
      "        [    0,  7907, 11294,     0, 12669,  7332, 14980, 15308,  2337,  6978],\n",
      "        [ 1777, 12298, 12887, 12922,  7282, 11555, 12676,     0, 12676, 13639],\n",
      "        [10498,   295,  5425,  4871, 10215,     0,  1499,  8588,   295,  4713],\n",
      "        [ 7349,  8572,  8646,  7269, 14361,  9890,  2165,  4406,  3255, 14675],\n",
      "        [ 5624,  3598, 10266,  6017,  8506,  3486,  4480,  6728,  9451,  5719],\n",
      "        [11937, 10191,  9545,  9690, 14637, 11937, 10191,  9545,  6539, 13993],\n",
      "        [13344,   295, 13686,  2576,   248,  1499,    53,  3919,  8588,   295],\n",
      "        [  417, 11294,  5914,  1995, 11905,     0, 12676,  4595,  2251, 10323],\n",
      "        [11576, 10750,  9545,     0,  4975,  7332, 14980,  2337,  2251, 10323],\n",
      "        [ 5133,  5133, 10191,  8539, 12669,  7332, 14980, 15308,  2337,  2251],\n",
      "        [13614, 10618,  2600,  9545, 13370,    53,  4308, 11428,  8057,  8863],\n",
      "        [11058,  8811, 14388,  8646,  7979,  2337,  7979,  6252, 10323,  6978]]), tensor([[1, 0, 0, 0, 0, 0, 0, 0],\n",
      "        [0, 0, 1, 0, 0, 0, 0, 0],\n",
      "        [1, 0, 0, 0, 0, 0, 0, 0],\n",
      "        [1, 0, 0, 0, 0, 0, 0, 0],\n",
      "        [1, 0, 0, 0, 0, 0, 0, 0],\n",
      "        [1, 0, 0, 0, 0, 0, 0, 0],\n",
      "        [0, 0, 1, 0, 0, 0, 0, 0],\n",
      "        [0, 0, 1, 0, 0, 0, 0, 0],\n",
      "        [0, 0, 1, 0, 0, 0, 0, 0],\n",
      "        [0, 0, 1, 0, 0, 0, 0, 0],\n",
      "        [0, 0, 1, 0, 0, 0, 0, 0],\n",
      "        [0, 0, 0, 0, 0, 0, 1, 0],\n",
      "        [1, 0, 0, 0, 0, 0, 0, 0],\n",
      "        [0, 0, 0, 0, 0, 0, 0, 1],\n",
      "        [0, 1, 0, 0, 0, 0, 0, 0],\n",
      "        [0, 0, 1, 0, 0, 0, 0, 0],\n",
      "        [1, 0, 0, 0, 0, 0, 0, 0],\n",
      "        [1, 0, 0, 0, 0, 0, 0, 0],\n",
      "        [0, 0, 0, 0, 0, 0, 1, 0],\n",
      "        [0, 0, 0, 0, 0, 1, 0, 0],\n",
      "        [0, 0, 1, 0, 0, 0, 0, 0],\n",
      "        [0, 0, 1, 0, 0, 0, 0, 0],\n",
      "        [1, 0, 0, 0, 0, 0, 0, 0],\n",
      "        [0, 0, 1, 0, 0, 0, 0, 0],\n",
      "        [1, 0, 0, 0, 0, 0, 0, 0],\n",
      "        [1, 0, 0, 0, 0, 0, 0, 0],\n",
      "        [1, 0, 0, 0, 0, 0, 0, 0],\n",
      "        [0, 0, 1, 0, 0, 0, 0, 0],\n",
      "        [0, 0, 1, 0, 0, 0, 0, 0],\n",
      "        [0, 0, 1, 0, 0, 0, 0, 0],\n",
      "        [1, 0, 0, 0, 0, 0, 0, 0],\n",
      "        [0, 0, 1, 0, 0, 0, 0, 0]], dtype=torch.int32))\n"
     ]
    }
   ],
   "source": [
    "for ind, item in enumerate(train_loader):\n",
    "    if ind == 1:\n",
    "        print(item)"
   ]
  },
  {
   "cell_type": "code",
   "execution_count": 304,
   "id": "32e5fc4e",
   "metadata": {},
   "outputs": [],
   "source": [
    "device = torch.device(f'cuda:{args.cuda}') if torch.cuda.is_available() else torch.device('cpu')\n",
    "model = TextLevelLSTM(pretrained_embeddings=torch.tensor(dataset.embedding_matrix), dropout_rate=0.5).to(device)\n",
    "criterion = nn.BCELoss()"
   ]
  },
  {
   "cell_type": "code",
   "execution_count": 305,
   "id": "be99115d",
   "metadata": {},
   "outputs": [],
   "source": [
    "lr = args.lr\n",
    "lr_decay_factor = args.lr_decay_factor\n",
    "lr_decay_every = args.lr_decay_every\n",
    "weight_decay = args.weight_decay\n",
    "\n",
    "early_stopping_patience = args.early_stopping_patience\n",
    "early_stopping_criteria = args.early_stopping_criteria\n",
    "best_epoch = 0 # Initialize\n",
    "\n",
    "training = {}\n",
    "validation = {}\n",
    "testing = {}\n",
    "training['accuracy'] = []\n",
    "training['loss'] = []\n",
    "validation['accuracy'] = []\n",
    "validation['loss'] = []\n",
    "testing['accuracy'] = []\n",
    "testing['loss'] = []"
   ]
  },
  {
   "cell_type": "code",
   "execution_count": 306,
   "id": "63f44e86",
   "metadata": {},
   "outputs": [
    {
     "ename": "RuntimeError",
     "evalue": "'lengths' argument should be a 1D CPU int64 tensor, but got 0D cpu Long tensor",
     "output_type": "error",
     "traceback": [
      "\u001b[0;31m---------------------------------------------------------------------------\u001b[0m",
      "\u001b[0;31mRuntimeError\u001b[0m                              Traceback (most recent call last)",
      "\u001b[0;32m/tmp/ipykernel_5833/1939739471.py\u001b[0m in \u001b[0;36m<module>\u001b[0;34m\u001b[0m\n\u001b[1;32m     14\u001b[0m         \u001b[0mtrain_sets\u001b[0m \u001b[0;34m=\u001b[0m \u001b[0mtrain_sets\u001b[0m\u001b[0;34m.\u001b[0m\u001b[0mto\u001b[0m\u001b[0;34m(\u001b[0m\u001b[0mdevice\u001b[0m\u001b[0;34m)\u001b[0m\u001b[0;34m\u001b[0m\u001b[0;34m\u001b[0m\u001b[0m\n\u001b[1;32m     15\u001b[0m         \u001b[0mlabels\u001b[0m \u001b[0;34m=\u001b[0m \u001b[0mlabels\u001b[0m\u001b[0;34m.\u001b[0m\u001b[0mto\u001b[0m\u001b[0;34m(\u001b[0m\u001b[0mdevice\u001b[0m\u001b[0;34m)\u001b[0m\u001b[0;34m\u001b[0m\u001b[0;34m\u001b[0m\u001b[0m\n\u001b[0;32m---> 16\u001b[0;31m         \u001b[0mprediction\u001b[0m \u001b[0;34m=\u001b[0m \u001b[0mmodel\u001b[0m\u001b[0;34m(\u001b[0m\u001b[0mtrain_sets\u001b[0m\u001b[0;34m)\u001b[0m\u001b[0;34m\u001b[0m\u001b[0;34m\u001b[0m\u001b[0m\n\u001b[0m\u001b[1;32m     17\u001b[0m         \u001b[0mloss\u001b[0m \u001b[0;34m=\u001b[0m \u001b[0mcriterion\u001b[0m\u001b[0;34m(\u001b[0m\u001b[0mprediction\u001b[0m\u001b[0;34m,\u001b[0m \u001b[0mlabels\u001b[0m\u001b[0;34m)\u001b[0m\u001b[0;34m.\u001b[0m\u001b[0mto\u001b[0m\u001b[0;34m(\u001b[0m\u001b[0mdevice\u001b[0m\u001b[0;34m)\u001b[0m\u001b[0;34m\u001b[0m\u001b[0;34m\u001b[0m\u001b[0m\n\u001b[1;32m     18\u001b[0m         \u001b[0moptimizer\u001b[0m\u001b[0;34m.\u001b[0m\u001b[0mzero_grad\u001b[0m\u001b[0;34m(\u001b[0m\u001b[0;34m)\u001b[0m\u001b[0;34m\u001b[0m\u001b[0;34m\u001b[0m\u001b[0m\n",
      "\u001b[0;32m~/anaconda3/envs/graphgym/lib/python3.9/site-packages/torch/nn/modules/module.py\u001b[0m in \u001b[0;36m_call_impl\u001b[0;34m(self, *input, **kwargs)\u001b[0m\n\u001b[1;32m   1100\u001b[0m         if not (self._backward_hooks or self._forward_hooks or self._forward_pre_hooks or _global_backward_hooks\n\u001b[1;32m   1101\u001b[0m                 or _global_forward_hooks or _global_forward_pre_hooks):\n\u001b[0;32m-> 1102\u001b[0;31m             \u001b[0;32mreturn\u001b[0m \u001b[0mforward_call\u001b[0m\u001b[0;34m(\u001b[0m\u001b[0;34m*\u001b[0m\u001b[0minput\u001b[0m\u001b[0;34m,\u001b[0m \u001b[0;34m**\u001b[0m\u001b[0mkwargs\u001b[0m\u001b[0;34m)\u001b[0m\u001b[0;34m\u001b[0m\u001b[0;34m\u001b[0m\u001b[0m\n\u001b[0m\u001b[1;32m   1103\u001b[0m         \u001b[0;31m# Do not call functions when jit is used\u001b[0m\u001b[0;34m\u001b[0m\u001b[0;34m\u001b[0m\u001b[0m\n\u001b[1;32m   1104\u001b[0m         \u001b[0mfull_backward_hooks\u001b[0m\u001b[0;34m,\u001b[0m \u001b[0mnon_full_backward_hooks\u001b[0m \u001b[0;34m=\u001b[0m \u001b[0;34m[\u001b[0m\u001b[0;34m]\u001b[0m\u001b[0;34m,\u001b[0m \u001b[0;34m[\u001b[0m\u001b[0;34m]\u001b[0m\u001b[0;34m\u001b[0m\u001b[0;34m\u001b[0m\u001b[0m\n",
      "\u001b[0;32m/tmp/ipykernel_5833/4097020941.py\u001b[0m in \u001b[0;36mforward\u001b[0;34m(self, text, text_len)\u001b[0m\n\u001b[1;32m     17\u001b[0m         \u001b[0mtext_emb\u001b[0m \u001b[0;34m=\u001b[0m \u001b[0mself\u001b[0m\u001b[0;34m.\u001b[0m\u001b[0membedding\u001b[0m\u001b[0;34m(\u001b[0m\u001b[0mtext\u001b[0m\u001b[0;34m)\u001b[0m\u001b[0;34m\u001b[0m\u001b[0;34m\u001b[0m\u001b[0m\n\u001b[1;32m     18\u001b[0m \u001b[0;34m\u001b[0m\u001b[0m\n\u001b[0;32m---> 19\u001b[0;31m         \u001b[0mpacked_input\u001b[0m \u001b[0;34m=\u001b[0m \u001b[0mpack_padded_sequence\u001b[0m\u001b[0;34m(\u001b[0m\u001b[0mtext_emb\u001b[0m\u001b[0;34m,\u001b[0m \u001b[0mtext_len\u001b[0m\u001b[0;34m,\u001b[0m \u001b[0mbatch_first\u001b[0m\u001b[0;34m=\u001b[0m\u001b[0;32mTrue\u001b[0m\u001b[0;34m,\u001b[0m \u001b[0menforce_sorted\u001b[0m\u001b[0;34m=\u001b[0m\u001b[0;32mFalse\u001b[0m\u001b[0;34m)\u001b[0m\u001b[0;34m\u001b[0m\u001b[0;34m\u001b[0m\u001b[0m\n\u001b[0m\u001b[1;32m     20\u001b[0m         \u001b[0mpacked_output\u001b[0m\u001b[0;34m,\u001b[0m \u001b[0m_\u001b[0m \u001b[0;34m=\u001b[0m \u001b[0mself\u001b[0m\u001b[0;34m.\u001b[0m\u001b[0mlstm\u001b[0m\u001b[0;34m(\u001b[0m\u001b[0mpacked_input\u001b[0m\u001b[0;34m)\u001b[0m\u001b[0;34m\u001b[0m\u001b[0;34m\u001b[0m\u001b[0m\n\u001b[1;32m     21\u001b[0m         \u001b[0moutput\u001b[0m\u001b[0;34m,\u001b[0m \u001b[0m_\u001b[0m \u001b[0;34m=\u001b[0m \u001b[0mpad_packed_sequence\u001b[0m\u001b[0;34m(\u001b[0m\u001b[0mpacked_output\u001b[0m\u001b[0;34m,\u001b[0m \u001b[0mbatch_first\u001b[0m\u001b[0;34m=\u001b[0m\u001b[0;32mTrue\u001b[0m\u001b[0;34m)\u001b[0m\u001b[0;34m\u001b[0m\u001b[0;34m\u001b[0m\u001b[0m\n",
      "\u001b[0;32m~/anaconda3/envs/graphgym/lib/python3.9/site-packages/torch/nn/utils/rnn.py\u001b[0m in \u001b[0;36mpack_padded_sequence\u001b[0;34m(input, lengths, batch_first, enforce_sorted)\u001b[0m\n\u001b[1;32m    247\u001b[0m \u001b[0;34m\u001b[0m\u001b[0m\n\u001b[1;32m    248\u001b[0m     \u001b[0mdata\u001b[0m\u001b[0;34m,\u001b[0m \u001b[0mbatch_sizes\u001b[0m \u001b[0;34m=\u001b[0m\u001b[0;31m \u001b[0m\u001b[0;31m\\\u001b[0m\u001b[0;34m\u001b[0m\u001b[0;34m\u001b[0m\u001b[0m\n\u001b[0;32m--> 249\u001b[0;31m         \u001b[0m_VF\u001b[0m\u001b[0;34m.\u001b[0m\u001b[0m_pack_padded_sequence\u001b[0m\u001b[0;34m(\u001b[0m\u001b[0minput\u001b[0m\u001b[0;34m,\u001b[0m \u001b[0mlengths\u001b[0m\u001b[0;34m,\u001b[0m \u001b[0mbatch_first\u001b[0m\u001b[0;34m)\u001b[0m\u001b[0;34m\u001b[0m\u001b[0;34m\u001b[0m\u001b[0m\n\u001b[0m\u001b[1;32m    250\u001b[0m     \u001b[0;32mreturn\u001b[0m \u001b[0m_packed_sequence_init\u001b[0m\u001b[0;34m(\u001b[0m\u001b[0mdata\u001b[0m\u001b[0;34m,\u001b[0m \u001b[0mbatch_sizes\u001b[0m\u001b[0;34m,\u001b[0m \u001b[0msorted_indices\u001b[0m\u001b[0;34m,\u001b[0m \u001b[0;32mNone\u001b[0m\u001b[0;34m)\u001b[0m\u001b[0;34m\u001b[0m\u001b[0;34m\u001b[0m\u001b[0m\n\u001b[1;32m    251\u001b[0m \u001b[0;34m\u001b[0m\u001b[0m\n",
      "\u001b[0;31mRuntimeError\u001b[0m: 'lengths' argument should be a 1D CPU int64 tensor, but got 0D cpu Long tensor"
     ]
    }
   ],
   "source": [
    "for epoch in range(args.epoch):\n",
    "    model.train()\n",
    "    train_loss = 0\n",
    "    train_correct_items = 0\n",
    "    previous_epoch_timestamp = time()\n",
    "\n",
    "    if epoch % lr_decay_every == 0: # Update optimizer for every lr_decay_every epochs\n",
    "        if epoch != 0: # When it is the first epoch, disable the lr_decay_factor\n",
    "            lr *= lr_decay_factor\n",
    "        optimizer = torch.optim.Adam(model.parameters(), lr=lr, weight_decay=weight_decay)\n",
    "\n",
    "    for i, (train_sets, labels) in enumerate(train_loader):\n",
    "#         print('Finished batch:', i)\n",
    "        train_sets = train_sets.to(device)\n",
    "        labels = labels.to(device)\n",
    "        prediction = model(train_sets)\n",
    "        loss = criterion(prediction, labels).to(device)\n",
    "        optimizer.zero_grad()\n",
    "        loss.backward()\n",
    "        optimizer.step()\n",
    "        train_loss += loss.item()\n",
    "        train_correct_items += (prediction.argmax(dim=1) == labels.argmax(dim=1)).sum().item()\n",
    "    train_accuracy = train_correct_items / len(dataset.train_dataset)\n",
    "\n",
    "    model.eval()\n",
    "    validation_loss = 0\n",
    "    validation_correct_items = 0\n",
    "    for i, (val_sets, labels) in enumerate(validation_loader):\n",
    "        val_sets = val_sets.to(device)\n",
    "        labels = labels.to(device)\n",
    "        prediction = model(val_sets, public_edge_masks)\n",
    "        loss = criterion(prediction, labels).to(device)\n",
    "        validation_loss += loss.item()\n",
    "        validation_correct_items += (prediction.argmax(dim=1) == labels.argmax(dim=1)).sum().item()\n",
    "    validation_accuracy = validation_correct_items / len(dataset.validation_dataset)\n",
    "\n",
    "#     model.eval()\n",
    "    test_loss = 0\n",
    "    test_correct_items = 0\n",
    "    for i, (test_sets, labels) in enumerate(test_loader):\n",
    "        test_sets = test_sets.to(device)\n",
    "        labels = labels.to(device)\n",
    "        prediction = model(node_sets, neighbor_sets, public_edge_masks)\n",
    "        loss = criterion(prediction, labels).to(device)\n",
    "        test_loss += loss.item()\n",
    "        test_correct_items += (prediction.argmax(dim=1) == labels.argmax(dim=1)).sum().item()\n",
    "    test_accuracy = test_correct_items / len(dataset.test_dataset)\n",
    "    print(f'Epoch: {epoch+1}, Training Loss: {train_loss:.4f}, Validation Loss: {validation_loss:.4f}, Testing Loss: {test_loss:.4f}, Training Accuracy: {train_accuracy:.4f}, Validation Accuracy: {validation_accuracy:.4f}, Testing Accuracy: {test_accuracy:.4f}, Time Used: {time()-previous_epoch_timestamp:.2f}s')\n",
    "    training['accuracy'].append(train_accuracy)\n",
    "    training['loss'].append(train_loss)\n",
    "    validation['accuracy'].append(validation_accuracy)\n",
    "    validation['loss'].append(validation_loss)\n",
    "    testing['accuracy'].append(test_accuracy)\n",
    "    testing['loss'].append(test_loss)\n"
   ]
  },
  {
   "cell_type": "code",
   "execution_count": null,
   "id": "b8ebe512",
   "metadata": {},
   "outputs": [],
   "source": []
  }
 ],
 "metadata": {
  "kernelspec": {
   "display_name": "Python 3 (ipykernel)",
   "language": "python",
   "name": "python3"
  },
  "language_info": {
   "codemirror_mode": {
    "name": "ipython",
    "version": 3
   },
   "file_extension": ".py",
   "mimetype": "text/x-python",
   "name": "python",
   "nbconvert_exporter": "python",
   "pygments_lexer": "ipython3",
   "version": "3.9.7"
  }
 },
 "nbformat": 4,
 "nbformat_minor": 5
}
